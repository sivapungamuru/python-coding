{
 "cells": [
  {
   "cell_type": "markdown",
   "id": "8b043fd7",
   "metadata": {},
   "source": [
    "# ATM transaction"
   ]
  },
  {
   "cell_type": "code",
   "execution_count": null,
   "id": "e807732d",
   "metadata": {},
   "outputs": [
    {
     "name": "stdout",
     "output_type": "stream",
     "text": [
      "read the following otions carefully\n",
      "\n",
      "\n",
      "      1)cash diposit\n",
      "      2)cash withdraw\n",
      "      3)exit\n",
      "      4)Balance enqiry\n",
      "      \n",
      "please enter the number wich action you want to perform from the above: 2\n"
     ]
    }
   ],
   "source": [
    "bal=500\n",
    "print(\"read the following otions carefully\")\n",
    "print('''\n",
    "\n",
    "      1)cash diposit\n",
    "      2)cash withdraw\n",
    "      3)exit\n",
    "      4)Balance enqiry\n",
    "      '''\n",
    "     )\n",
    "c=int(input(\"please enter the number wich action you want to perform from the above: \"))\n",
    "if c==1:\n",
    "      d=int(input(\"enter the diposited amount:\"))\n",
    "      tot=bal+d\n",
    "      print('available balece is:',bal)\n",
    "      print('adding amount',d,'total amount after add:',tot)\n",
    "      print('than q')\n",
    "elif c==2:\n",
    "      w=int(input(\"enter withdraw amount:\"))\n",
    "      tot=bal-w\n",
    "      print('available balence is:',bal)\n",
    "      print('withdravel',w,'total amount after deducting:',tot)\n",
    "      print('than q')\n",
    "elif c==4:\n",
    "      print('your current balence is:',bal)\n",
    "\n",
    "else:\n",
    "      print('''\n",
    "            ###############sbi banking###############\n",
    "            name:ram\n",
    "            date:20-09-2022\n",
    "            thanq''')\n"
   ]
  },
  {
   "cell_type": "code",
   "execution_count": null,
   "id": "c92d0363",
   "metadata": {},
   "outputs": [],
   "source": []
  }
 ],
 "metadata": {
  "kernelspec": {
   "display_name": "Python 3 (ipykernel)",
   "language": "python",
   "name": "python3"
  },
  "language_info": {
   "codemirror_mode": {
    "name": "ipython",
    "version": 3
   },
   "file_extension": ".py",
   "mimetype": "text/x-python",
   "name": "python",
   "nbconvert_exporter": "python",
   "pygments_lexer": "ipython3",
   "version": "3.9.12"
  }
 },
 "nbformat": 4,
 "nbformat_minor": 5
}
