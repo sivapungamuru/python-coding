{
 "cells": [
  {
   "cell_type": "markdown",
   "id": "c2484b71",
   "metadata": {},
   "source": [
    "# for loop in python"
   ]
  },
  {
   "cell_type": "code",
   "execution_count": 1,
   "id": "76b8db97",
   "metadata": {},
   "outputs": [
    {
     "name": "stdout",
     "output_type": "stream",
     "text": [
      "Even number: [2, 4, 6, 8]\n",
      "Odd number: [1, 3, 5, 7]\n"
     ]
    }
   ],
   "source": [
    "numbers=[1,2,3,4,5,6,7,8]\n",
    "even=[]\n",
    "odd=[]\n",
    "for x in numbers:\n",
    "    if(x%2==0):\n",
    "        even.append(x)\n",
    "    else:\n",
    "        odd.append(x)\n",
    "print(\"Even number:\",even)\n",
    "print(\"Odd number:\",odd)"
   ]
  },
  {
   "cell_type": "code",
   "execution_count": null,
   "id": "fed2375d",
   "metadata": {},
   "outputs": [],
   "source": []
  }
 ],
 "metadata": {
  "kernelspec": {
   "display_name": "Python 3 (ipykernel)",
   "language": "python",
   "name": "python3"
  },
  "language_info": {
   "codemirror_mode": {
    "name": "ipython",
    "version": 3
   },
   "file_extension": ".py",
   "mimetype": "text/x-python",
   "name": "python",
   "nbconvert_exporter": "python",
   "pygments_lexer": "ipython3",
   "version": "3.9.12"
  }
 },
 "nbformat": 4,
 "nbformat_minor": 5
}
