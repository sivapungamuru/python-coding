{
 "cells": [
  {
   "cell_type": "markdown",
   "id": "04316f3a",
   "metadata": {},
   "source": [
    "# creating series from a list"
   ]
  },
  {
   "cell_type": "code",
   "execution_count": 35,
   "id": "98d0da5a",
   "metadata": {},
   "outputs": [],
   "source": [
    "import numpy as np\n",
    "import pandas as pd"
   ]
  },
  {
   "cell_type": "code",
   "execution_count": 5,
   "id": "713ec053",
   "metadata": {},
   "outputs": [
    {
     "name": "stdout",
     "output_type": "stream",
     "text": [
      "0    a\n",
      "1    b\n",
      "2    c\n",
      "3    d\n",
      "4    e\n",
      "5    f\n",
      "6    g\n",
      "dtype: object\n"
     ]
    }
   ],
   "source": [
    "first_series = pd.Series(list('abcdefg'))\n",
    "print(first_series)"
   ]
  },
  {
   "cell_type": "code",
   "execution_count": 7,
   "id": "4a617f9f",
   "metadata": {},
   "outputs": [],
   "source": [
    "siva_series = pd.Series(list('applle'))"
   ]
  },
  {
   "cell_type": "code",
   "execution_count": 8,
   "id": "34479424",
   "metadata": {},
   "outputs": [
    {
     "name": "stdout",
     "output_type": "stream",
     "text": [
      "0    a\n",
      "1    p\n",
      "2    p\n",
      "3    l\n",
      "4    l\n",
      "5    e\n",
      "dtype: object\n"
     ]
    }
   ],
   "source": [
    "print(siva_series)"
   ]
  },
  {
   "cell_type": "code",
   "execution_count": 11,
   "id": "07c72b8e",
   "metadata": {},
   "outputs": [],
   "source": [
    "siva2_series = pd.Series('12345')"
   ]
  },
  {
   "cell_type": "code",
   "execution_count": 12,
   "id": "74f8ecbf",
   "metadata": {},
   "outputs": [
    {
     "name": "stdout",
     "output_type": "stream",
     "text": [
      "0    12345\n",
      "dtype: object\n"
     ]
    }
   ],
   "source": [
    "print(siva2_series)"
   ]
  },
  {
   "cell_type": "code",
   "execution_count": 13,
   "id": "d8949f33",
   "metadata": {},
   "outputs": [],
   "source": [
    "siva3_series = pd.Series(list('asdfghjkl;'))"
   ]
  },
  {
   "cell_type": "code",
   "execution_count": 14,
   "id": "146580dc",
   "metadata": {},
   "outputs": [
    {
     "name": "stdout",
     "output_type": "stream",
     "text": [
      "0    a\n",
      "1    s\n",
      "2    d\n",
      "3    f\n",
      "4    g\n",
      "5    h\n",
      "6    j\n",
      "7    k\n",
      "8    l\n",
      "9    ;\n",
      "dtype: object\n"
     ]
    }
   ],
   "source": [
    "print(siva3_series)"
   ]
  },
  {
   "cell_type": "code",
   "execution_count": 15,
   "id": "3d0520b5",
   "metadata": {},
   "outputs": [],
   "source": [
    "a_series = pd.Series('qwertyuiop')"
   ]
  },
  {
   "cell_type": "code",
   "execution_count": 16,
   "id": "9dc3786c",
   "metadata": {},
   "outputs": [
    {
     "name": "stdout",
     "output_type": "stream",
     "text": [
      "0    qwertyuiop\n",
      "dtype: object\n"
     ]
    }
   ],
   "source": [
    "print(a_series)"
   ]
  },
  {
   "cell_type": "code",
   "execution_count": 19,
   "id": "fefeb5b9",
   "metadata": {},
   "outputs": [],
   "source": [
    "a_series = pd.Series(list('qwertyuiop'))"
   ]
  },
  {
   "cell_type": "code",
   "execution_count": 20,
   "id": "40bbc0a3",
   "metadata": {},
   "outputs": [
    {
     "name": "stdout",
     "output_type": "stream",
     "text": [
      "0    q\n",
      "1    w\n",
      "2    e\n",
      "3    r\n",
      "4    t\n",
      "5    y\n",
      "6    u\n",
      "7    i\n",
      "8    o\n",
      "9    p\n",
      "dtype: object\n"
     ]
    }
   ],
   "source": [
    "print(a_series)"
   ]
  },
  {
   "cell_type": "code",
   "execution_count": 24,
   "id": "c1b4fc57",
   "metadata": {},
   "outputs": [],
   "source": [
    "ss_series = pd.Series(list('12345678910'))"
   ]
  },
  {
   "cell_type": "code",
   "execution_count": 25,
   "id": "3c71509a",
   "metadata": {},
   "outputs": [
    {
     "name": "stdout",
     "output_type": "stream",
     "text": [
      "0     1\n",
      "1     2\n",
      "2     3\n",
      "3     4\n",
      "4     5\n",
      "5     6\n",
      "6     7\n",
      "7     8\n",
      "8     9\n",
      "9     1\n",
      "10    0\n",
      "dtype: object\n"
     ]
    }
   ],
   "source": [
    "print(ss_series)"
   ]
  },
  {
   "cell_type": "markdown",
   "id": "821173a5",
   "metadata": {},
   "source": [
    "# cresting series from an ndarray"
   ]
  },
  {
   "cell_type": "code",
   "execution_count": 38,
   "id": "f6e0ac5a",
   "metadata": {},
   "outputs": [],
   "source": [
    "a_siva = np.array(['s','i','v','a'])"
   ]
  },
  {
   "cell_type": "code",
   "execution_count": 40,
   "id": "2db82b9c",
   "metadata": {},
   "outputs": [
    {
     "name": "stdout",
     "output_type": "stream",
     "text": [
      "['s' 'i' 'v' 'a']\n"
     ]
    }
   ],
   "source": [
    "print(a_siva)"
   ]
  },
  {
   "cell_type": "code",
   "execution_count": 41,
   "id": "3fd70a5a",
   "metadata": {},
   "outputs": [],
   "source": [
    "a_siva = pd.array(['s','i','v','a'])"
   ]
  },
  {
   "cell_type": "code",
   "execution_count": 42,
   "id": "7cb2eeb2",
   "metadata": {},
   "outputs": [
    {
     "name": "stdout",
     "output_type": "stream",
     "text": [
      "<StringArray>\n",
      "['s', 'i', 'v', 'a']\n",
      "Length: 4, dtype: string\n"
     ]
    }
   ],
   "source": [
    "print(a_siva)"
   ]
  },
  {
   "cell_type": "code",
   "execution_count": 44,
   "id": "b6a1dbf1",
   "metadata": {},
   "outputs": [],
   "source": [
    "b_siva = pd.Series(a_siva)"
   ]
  },
  {
   "cell_type": "code",
   "execution_count": 45,
   "id": "33989f22",
   "metadata": {},
   "outputs": [
    {
     "name": "stdout",
     "output_type": "stream",
     "text": [
      "0    s\n",
      "1    i\n",
      "2    v\n",
      "3    a\n",
      "dtype: string\n"
     ]
    }
   ],
   "source": [
    "print(b_siva)"
   ]
  },
  {
   "cell_type": "code",
   "execution_count": 49,
   "id": "555f9339",
   "metadata": {},
   "outputs": [],
   "source": [
    "aa_fruts = np.array(['apple','mango','banana','jackFrut'])"
   ]
  },
  {
   "cell_type": "code",
   "execution_count": 50,
   "id": "b3235cc8",
   "metadata": {},
   "outputs": [
    {
     "name": "stdout",
     "output_type": "stream",
     "text": [
      "['apple' 'mango' 'banana' 'jackFrut']\n"
     ]
    }
   ],
   "source": [
    "print(aa_fruts)"
   ]
  },
  {
   "cell_type": "code",
   "execution_count": 52,
   "id": "8109f3a4",
   "metadata": {},
   "outputs": [
    {
     "name": "stdout",
     "output_type": "stream",
     "text": [
      "0       apple\n",
      "1       mango\n",
      "2      banana\n",
      "3    jackFrut\n",
      "dtype: object\n"
     ]
    }
   ],
   "source": [
    "bb_fruts = pd.Series(aa_fruts)\n",
    "print(bb_fruts)"
   ]
  },
  {
   "cell_type": "code",
   "execution_count": 58,
   "id": "c337aa9a",
   "metadata": {},
   "outputs": [],
   "source": [
    "p_prabhas = np.array([\n",
    "'[01] Eashwar                                           2002',\n",
    "'[02] Ragavendhra                                       2003',\n",
    "'[03] Varsham\t                                        2004',\n",
    "'[04] Adivi Ramudu                                      2004',\n",
    "'[05] Chakram                                           2005',\n",
    "'[06] Chatrapathi                                       2005',\n",
    "'[07] Pournami                                          2006',\n",
    "'[08] Yogi                                              2007',\n",
    "'[09] Munna                                             2007',\n",
    "'[10] Bujjigadu                                         2008',\n",
    "'[11] Billa                                             2009',\n",
    "'[12] Ek Niranjan                                       2009',\n",
    "'[13] Darling                                           2010',\n",
    "'[14] Mr.Perfect                                        2011',\n",
    "'[15] Rebal                                             2012',\n",
    "'[16] Denikaina Ready(prabash to dub for vishnu)        2012',\n",
    "'[17] Mirchi                                            2013',\n",
    "'[18] Action Jackson(special appearar)                  2014',\n",
    "'[19] Bahubali:The Beginning                            2015',\n",
    "'[20] Bahubali:THE Conclusion                           2017',\n",
    "'[21] Saho                                              2019',\n",
    "'[22] Radhe Shyam                                       2022',\n",
    "'[23] Adipursh 2023 NOT Release                   12/01/2023',\n",
    "'[24] Salar 2023 Not Release                      28/09/2023',\n",
    "'[25] Project K                                      shoting'])\n"
   ]
  },
  {
   "cell_type": "code",
   "execution_count": 59,
   "id": "d076a6fa",
   "metadata": {},
   "outputs": [
    {
     "name": "stdout",
     "output_type": "stream",
     "text": [
      "['[01] Eashwar                                           2002'\n",
      " '[02] Ragavendhra                                       2003'\n",
      " '[03] Varsham\\t                                        2004'\n",
      " '[04] Adivi Ramudu                                      2004'\n",
      " '[05] Chakram                                           2005'\n",
      " '[06] Chatrapathi                                       2005'\n",
      " '[07] Pournami                                          2006'\n",
      " '[08] Yogi                                              2007'\n",
      " '[09] Munna                                             2007'\n",
      " '[10] Bujjigadu                                         2008'\n",
      " '[11] Billa                                             2009'\n",
      " '[12] Ek Niranjan                                       2009'\n",
      " '[13] Darling                                           2010'\n",
      " '[14] Mr.Perfect                                        2011'\n",
      " '[15] Rebal                                             2012'\n",
      " '[16] Denikaina Ready(prabash to dub for vishnu)        2012'\n",
      " '[17] Mirchi                                            2013'\n",
      " '[18] Action Jackson(special appearar)                  2014'\n",
      " '[19] Bahubali:The Beginning                            2015'\n",
      " '[20] Bahubali:THE Conclusion                           2017'\n",
      " '[21] Saho                                              2019'\n",
      " '[22] Radhe Shyam                                       2022'\n",
      " '[23] Adipursh 2023 NOT Release                   12/01/2023'\n",
      " '[24] Salar 2023 Not Release                      28/09/2023'\n",
      " '[25] Project K                                      shoting']\n"
     ]
    }
   ],
   "source": [
    "print(p_prabhas)"
   ]
  },
  {
   "cell_type": "code",
   "execution_count": 60,
   "id": "7334974a",
   "metadata": {},
   "outputs": [],
   "source": [
    "siva_prabhas = pd.Series(p_prabhas)"
   ]
  },
  {
   "cell_type": "code",
   "execution_count": 61,
   "id": "f97bed3a",
   "metadata": {},
   "outputs": [
    {
     "name": "stdout",
     "output_type": "stream",
     "text": [
      "0     [01] Eashwar                                  ...\n",
      "1     [02] Ragavendhra                              ...\n",
      "2     [03] Varsham\\t                                ...\n",
      "3     [04] Adivi Ramudu                             ...\n",
      "4     [05] Chakram                                  ...\n",
      "5     [06] Chatrapathi                              ...\n",
      "6     [07] Pournami                                 ...\n",
      "7     [08] Yogi                                     ...\n",
      "8     [09] Munna                                    ...\n",
      "9     [10] Bujjigadu                                ...\n",
      "10    [11] Billa                                    ...\n",
      "11    [12] Ek Niranjan                              ...\n",
      "12    [13] Darling                                  ...\n",
      "13    [14] Mr.Perfect                               ...\n",
      "14    [15] Rebal                                    ...\n",
      "15    [16] Denikaina Ready(prabash to dub for vishnu...\n",
      "16    [17] Mirchi                                   ...\n",
      "17    [18] Action Jackson(special appearar)         ...\n",
      "18    [19] Bahubali:The Beginning                   ...\n",
      "19    [20] Bahubali:THE Conclusion                  ...\n",
      "20    [21] Saho                                     ...\n",
      "21    [22] Radhe Shyam                              ...\n",
      "22    [23] Adipursh 2023 NOT Release                ...\n",
      "23    [24] Salar 2023 Not Release                   ...\n",
      "24    [25] Project K                                ...\n",
      "dtype: object\n"
     ]
    }
   ],
   "source": [
    "print(siva_prabhas)"
   ]
  },
  {
   "cell_type": "code",
   "execution_count": 62,
   "id": "ed0951c1",
   "metadata": {},
   "outputs": [],
   "source": [
    "##Creating series from dict"
   ]
  },
  {
   "cell_type": "code",
   "execution_count": 74,
   "id": "9e090743",
   "metadata": {},
   "outputs": [],
   "source": [
    "#THE PRABHAS TOTAL MOVES IN CERIER ,RANKING SYSTEM 1,2,3,4,5\n",
    "dict_prabhas_rank = pd.Series([4,3,5,5,4,5,5,5,5,5,5,5,5,5,5,5,5,5,5,5,5,5,0,0,0],index=['[01] Eashwar                                           2002',\n",
    "'[02] Ragavendhra                                       2003',\n",
    "'[03] Varsham\t                                        2004',\n",
    "'[04] Adivi Ramudu                                      2004',\n",
    "'[05] Chakram                                           2005',\n",
    "'[06] Chatrapathi                                       2005',\n",
    "'[07] Pournami                                          2006',\n",
    "'[08] Yogi                                              2007',\n",
    "'[09] Munna                                             2007',\n",
    "'[10] Bujjigadu                                         2008',\n",
    "'[11] Billa                                             2009',\n",
    "'[12] Ek Niranjan                                       2009',\n",
    "'[13] Darling                                           2010',\n",
    "'[14] Mr.Perfect                                        2011',\n",
    "'[15] Rebal                                             2012',\n",
    "'[16] Denikaina Ready(prabash to dub for vishnu)        2012',\n",
    "'[17] Mirchi                                            2013',\n",
    "'[18] Action Jackson(special appearar)                  2014',\n",
    "'[19] Bahubali:The Beginning                            2015',\n",
    "'[20] Bahubali:THE Conclusion                           2017',\n",
    "'[21] Saho                                              2019',\n",
    "'[22] Radhe Shyam                                       2022',\n",
    "'[23] Adipursh 2023 NOT Release                   12/01/2023',\n",
    "'[24] Salar 2023 Not Release                      28/09/2023',\n",
    "'[25] Project K                                      shoting'])"
   ]
  },
  {
   "cell_type": "code",
   "execution_count": 75,
   "id": "2c9595e4",
   "metadata": {},
   "outputs": [
    {
     "name": "stdout",
     "output_type": "stream",
     "text": [
      "[01] Eashwar                                           2002    4\n",
      "[02] Ragavendhra                                       2003    3\n",
      "[03] Varsham\\t                                        2004     5\n",
      "[04] Adivi Ramudu                                      2004    5\n",
      "[05] Chakram                                           2005    4\n",
      "[06] Chatrapathi                                       2005    5\n",
      "[07] Pournami                                          2006    5\n",
      "[08] Yogi                                              2007    5\n",
      "[09] Munna                                             2007    5\n",
      "[10] Bujjigadu                                         2008    5\n",
      "[11] Billa                                             2009    5\n",
      "[12] Ek Niranjan                                       2009    5\n",
      "[13] Darling                                           2010    5\n",
      "[14] Mr.Perfect                                        2011    5\n",
      "[15] Rebal                                             2012    5\n",
      "[16] Denikaina Ready(prabash to dub for vishnu)        2012    5\n",
      "[17] Mirchi                                            2013    5\n",
      "[18] Action Jackson(special appearar)                  2014    5\n",
      "[19] Bahubali:The Beginning                            2015    5\n",
      "[20] Bahubali:THE Conclusion                           2017    5\n",
      "[21] Saho                                              2019    5\n",
      "[22] Radhe Shyam                                       2022    5\n",
      "[23] Adipursh 2023 NOT Release                   12/01/2023    0\n",
      "[24] Salar 2023 Not Release                      28/09/2023    0\n",
      "[25] Project K                                      shoting    0\n",
      "dtype: int64\n"
     ]
    }
   ],
   "source": [
    "print(dict_prabhas_rank)"
   ]
  },
  {
   "cell_type": "code",
   "execution_count": 76,
   "id": "dad19c73",
   "metadata": {},
   "outputs": [],
   "source": [
    "s_enimals = np.array(['cat','dog','monkey','elephent','hors','fox','ox','tiger','lion'])#creating nd array"
   ]
  },
  {
   "cell_type": "code",
   "execution_count": 77,
   "id": "f004d28a",
   "metadata": {},
   "outputs": [
    {
     "name": "stdout",
     "output_type": "stream",
     "text": [
      "['cat' 'dog' 'monkey' 'elephent' 'hors' 'fox' 'ox' 'tiger' 'lion']\n"
     ]
    }
   ],
   "source": [
    "print(s_enimals)"
   ]
  },
  {
   "cell_type": "code",
   "execution_count": 78,
   "id": "094e529d",
   "metadata": {},
   "outputs": [],
   "source": [
    "p_enimals = pd.Series(s_enimals)    # convrt to array to list"
   ]
  },
  {
   "cell_type": "code",
   "execution_count": 79,
   "id": "608e91bb",
   "metadata": {},
   "outputs": [
    {
     "name": "stdout",
     "output_type": "stream",
     "text": [
      "0         cat\n",
      "1         dog\n",
      "2      monkey\n",
      "3    elephent\n",
      "4        hors\n",
      "5         fox\n",
      "6          ox\n",
      "7       tiger\n",
      "8        lion\n",
      "dtype: object\n"
     ]
    }
   ],
   "source": [
    "print(p_enimals)"
   ]
  },
  {
   "cell_type": "code",
   "execution_count": 85,
   "id": "494b9268",
   "metadata": {},
   "outputs": [],
   "source": [
    "dict_enimals_power = pd.Series([2,3,3,5,4,5,3,5,5],index=['cat','dog','monkey','elephent','hors','fox','ox','tiger','lion'])#total enimals ranking 1 2 3 4 5"
   ]
  },
  {
   "cell_type": "code",
   "execution_count": 83,
   "id": "d0eb9bf6",
   "metadata": {},
   "outputs": [
    {
     "name": "stdout",
     "output_type": "stream",
     "text": [
      "cat         2\n",
      "dog         3\n",
      "monkey      3\n",
      "elephent    5\n",
      "hors        4\n",
      "fox         5\n",
      "ox          3\n",
      "tiger       5\n",
      "lion        5\n",
      "dtype: int64\n"
     ]
    }
   ],
   "source": [
    "print(dict_enimals_power)\n"
   ]
  },
  {
   "cell_type": "markdown",
   "id": "d0b0978a",
   "metadata": {},
   "source": [
    "# CREATING SERIES FROM SCALAR"
   ]
  },
  {
   "cell_type": "code",
   "execution_count": 88,
   "id": "19b87c6d",
   "metadata": {},
   "outputs": [],
   "source": [
    "scalar_series = pd.Series(5.,index=['a','b','c','d','e'])                       #PRINT SERIES WITH SCALAR INPUT"
   ]
  },
  {
   "cell_type": "code",
   "execution_count": 89,
   "id": "d00b1f6c",
   "metadata": {},
   "outputs": [
    {
     "data": {
      "text/plain": [
       "a    5.0\n",
       "b    5.0\n",
       "c    5.0\n",
       "d    5.0\n",
       "e    5.0\n",
       "dtype: float64"
      ]
     },
     "execution_count": 89,
     "metadata": {},
     "output_type": "execute_result"
    }
   ],
   "source": [
    "scalar_series"
   ]
  },
  {
   "cell_type": "code",
   "execution_count": 90,
   "id": "67c7a488",
   "metadata": {},
   "outputs": [],
   "source": [
    "siva_series = pd.Series(4,index=['s','i','v','a'])"
   ]
  },
  {
   "cell_type": "code",
   "execution_count": 91,
   "id": "822c6999",
   "metadata": {},
   "outputs": [
    {
     "data": {
      "text/plain": [
       "s    4\n",
       "i    4\n",
       "v    4\n",
       "a    4\n",
       "dtype: int64"
      ]
     },
     "execution_count": 91,
     "metadata": {},
     "output_type": "execute_result"
    }
   ],
   "source": [
    "siva_series"
   ]
  },
  {
   "cell_type": "markdown",
   "id": "283f8499",
   "metadata": {},
   "source": [
    "# acceaain elements in series"
   ]
  },
  {
   "cell_type": "code",
   "execution_count": 95,
   "id": "8def6aff",
   "metadata": {},
   "outputs": [
    {
     "data": {
      "text/plain": [
       "0"
      ]
     },
     "execution_count": 95,
     "metadata": {},
     "output_type": "execute_result"
    }
   ],
   "source": [
    "dict_prabhas_rank[24]"
   ]
  },
  {
   "cell_type": "code",
   "execution_count": 99,
   "id": "db7f6d26",
   "metadata": {},
   "outputs": [
    {
     "data": {
      "text/plain": [
       "0"
      ]
     },
     "execution_count": 99,
     "metadata": {},
     "output_type": "execute_result"
    }
   ],
   "source": [
    "dict_prabhas_rank[22]"
   ]
  },
  {
   "cell_type": "code",
   "execution_count": 100,
   "id": "b2d55253",
   "metadata": {},
   "outputs": [
    {
     "data": {
      "text/plain": [
       "4"
      ]
     },
     "execution_count": 100,
     "metadata": {},
     "output_type": "execute_result"
    }
   ],
   "source": [
    "siva_series[3]"
   ]
  },
  {
   "cell_type": "code",
   "execution_count": 102,
   "id": "c02299a0",
   "metadata": {},
   "outputs": [
    {
     "name": "stdout",
     "output_type": "stream",
     "text": [
      "cat         2\n",
      "dog         3\n",
      "monkey      3\n",
      "elephent    5\n",
      "hors        4\n",
      "fox         5\n",
      "ox          3\n",
      "tiger       5\n",
      "lion        5\n",
      "dtype: int64\n"
     ]
    }
   ],
   "source": [
    "print(dict_enimals_power)"
   ]
  },
  {
   "cell_type": "code",
   "execution_count": 103,
   "id": "3a8330fd",
   "metadata": {},
   "outputs": [
    {
     "data": {
      "text/plain": [
       "cat         2\n",
       "dog         3\n",
       "monkey      3\n",
       "elephent    5\n",
       "hors        4\n",
       "fox         5\n",
       "ox          3\n",
       "tiger       5\n",
       "lion        5\n",
       "dtype: int64"
      ]
     },
     "execution_count": 103,
     "metadata": {},
     "output_type": "execute_result"
    }
   ],
   "source": [
    "dict_enimals_power"
   ]
  },
  {
   "cell_type": "code",
   "execution_count": 104,
   "id": "4c34f2d1",
   "metadata": {},
   "outputs": [
    {
     "data": {
      "text/plain": [
       "5"
      ]
     },
     "execution_count": 104,
     "metadata": {},
     "output_type": "execute_result"
    }
   ],
   "source": [
    "dict_enimals_power[7]"
   ]
  },
  {
   "cell_type": "code",
   "execution_count": 105,
   "id": "dcfadcce",
   "metadata": {},
   "outputs": [
    {
     "data": {
      "text/plain": [
       "3"
      ]
     },
     "execution_count": 105,
     "metadata": {},
     "output_type": "execute_result"
    }
   ],
   "source": [
    "dict_enimals_power[6]"
   ]
  },
  {
   "cell_type": "code",
   "execution_count": 108,
   "id": "d1b1d4f5",
   "metadata": {},
   "outputs": [
    {
     "data": {
      "text/plain": [
       "0     [01] Eashwar                                  ...\n",
       "1     [02] Ragavendhra                              ...\n",
       "2     [03] Varsham\\t                                ...\n",
       "3     [04] Adivi Ramudu                             ...\n",
       "4     [05] Chakram                                  ...\n",
       "5     [06] Chatrapathi                              ...\n",
       "6     [07] Pournami                                 ...\n",
       "7     [08] Yogi                                     ...\n",
       "8     [09] Munna                                    ...\n",
       "9     [10] Bujjigadu                                ...\n",
       "10    [11] Billa                                    ...\n",
       "11    [12] Ek Niranjan                              ...\n",
       "12    [13] Darling                                  ...\n",
       "13    [14] Mr.Perfect                               ...\n",
       "14    [15] Rebal                                    ...\n",
       "15    [16] Denikaina Ready(prabash to dub for vishnu...\n",
       "16    [17] Mirchi                                   ...\n",
       "17    [18] Action Jackson(special appearar)         ...\n",
       "18    [19] Bahubali:The Beginning                   ...\n",
       "19    [20] Bahubali:THE Conclusion                  ...\n",
       "20    [21] Saho                                     ...\n",
       "21    [22] Radhe Shyam                              ...\n",
       "22    [23] Adipursh 2023 NOT Release                ...\n",
       "23    [24] Salar 2023 Not Release                   ...\n",
       "24    [25] Project K                                ...\n",
       "dtype: object"
      ]
     },
     "execution_count": 108,
     "metadata": {},
     "output_type": "execute_result"
    }
   ],
   "source": [
    "siva_prabhas"
   ]
  },
  {
   "cell_type": "code",
   "execution_count": 109,
   "id": "4fad6b76",
   "metadata": {},
   "outputs": [
    {
     "data": {
      "text/plain": [
       "cat         2\n",
       "dog         3\n",
       "monkey      3\n",
       "elephent    5\n",
       "hors        4\n",
       "fox         5\n",
       "ox          3\n",
       "tiger       5\n",
       "lion        5\n",
       "dtype: int64"
      ]
     },
     "execution_count": 109,
     "metadata": {},
     "output_type": "execute_result"
    }
   ],
   "source": [
    "dict_enimals_power"
   ]
  },
  {
   "cell_type": "code",
   "execution_count": 111,
   "id": "bf005bec",
   "metadata": {},
   "outputs": [
    {
     "data": {
      "text/plain": [
       "cat         2\n",
       "dog         3\n",
       "monkey      3\n",
       "elephent    5\n",
       "hors        4\n",
       "dtype: int64"
      ]
     },
     "execution_count": 111,
     "metadata": {},
     "output_type": "execute_result"
    }
   ],
   "source": [
    "#access first 5 enimals form the series\n",
    "dict_enimals_power[0:5]"
   ]
  },
  {
   "cell_type": "code",
   "execution_count": 116,
   "id": "17f498c8",
   "metadata": {},
   "outputs": [
    {
     "data": {
      "text/plain": [
       "3"
      ]
     },
     "execution_count": 116,
     "metadata": {},
     "output_type": "execute_result"
    }
   ],
   "source": [
    "#locing up a enimal by name or index\n",
    "dict_enimals_power.loc['dog']"
   ]
  },
  {
   "cell_type": "code",
   "execution_count": 118,
   "id": "87674ddd",
   "metadata": {},
   "outputs": [
    {
     "data": {
      "text/plain": [
       "5"
      ]
     },
     "execution_count": 118,
     "metadata": {},
     "output_type": "execute_result"
    }
   ],
   "source": [
    "dict_prabhas_rank.loc['[08] Yogi                                              2007']#look up a prabhas move by name of index"
   ]
  },
  {
   "cell_type": "code",
   "execution_count": 129,
   "id": "c99fe298",
   "metadata": {},
   "outputs": [
    {
     "data": {
      "text/plain": [
       "[01] Eashwar                                           2002    4\n",
       "[02] Ragavendhra                                       2003    3\n",
       "[03] Varsham\\t                                        2004     5\n",
       "[04] Adivi Ramudu                                      2004    5\n",
       "[05] Chakram                                           2005    4\n",
       "[06] Chatrapathi                                       2005    5\n",
       "[07] Pournami                                          2006    5\n",
       "[08] Yogi                                              2007    5\n",
       "[09] Munna                                             2007    5\n",
       "[10] Bujjigadu                                         2008    5\n",
       "dtype: int64"
      ]
     },
     "execution_count": 129,
     "metadata": {},
     "output_type": "execute_result"
    }
   ],
   "source": [
    "dict_prabhas_rank[0:10] #prabhas  first 10 moves from thr series"
   ]
  },
  {
   "cell_type": "code",
   "execution_count": 122,
   "id": "e486c3b6",
   "metadata": {},
   "outputs": [
    {
     "data": {
      "text/plain": [
       "Series([], dtype: int64)"
      ]
     },
     "execution_count": 122,
     "metadata": {},
     "output_type": "execute_result"
    }
   ],
   "source": [
    "dict_prabhas_rank[0:0]"
   ]
  },
  {
   "cell_type": "code",
   "execution_count": 123,
   "id": "ef540c21",
   "metadata": {},
   "outputs": [
    {
     "data": {
      "text/plain": [
       "[02] Ragavendhra                                       2003    3\n",
       "[03] Varsham\\t                                        2004     5\n",
       "dtype: int64"
      ]
     },
     "execution_count": 123,
     "metadata": {},
     "output_type": "execute_result"
    }
   ],
   "source": [
    "dict_prabhas_rank[1:3]"
   ]
  },
  {
   "cell_type": "code",
   "execution_count": 124,
   "id": "7c2b263e",
   "metadata": {},
   "outputs": [
    {
     "data": {
      "text/plain": [
       "[01] Eashwar                                           2002    4\n",
       "[02] Ragavendhra                                       2003    3\n",
       "[03] Varsham\\t                                        2004     5\n",
       "dtype: int64"
      ]
     },
     "execution_count": 124,
     "metadata": {},
     "output_type": "execute_result"
    }
   ],
   "source": [
    "dict_prabhas_rank[0:3]"
   ]
  },
  {
   "cell_type": "code",
   "execution_count": 125,
   "id": "0c6fb63f",
   "metadata": {},
   "outputs": [
    {
     "data": {
      "text/plain": [
       "[11] Billa                                             2009    5\n",
       "[12] Ek Niranjan                                       2009    5\n",
       "[13] Darling                                           2010    5\n",
       "[14] Mr.Perfect                                        2011    5\n",
       "[15] Rebal                                             2012    5\n",
       "[16] Denikaina Ready(prabash to dub for vishnu)        2012    5\n",
       "[17] Mirchi                                            2013    5\n",
       "[18] Action Jackson(special appearar)                  2014    5\n",
       "[19] Bahubali:The Beginning                            2015    5\n",
       "[20] Bahubali:THE Conclusion                           2017    5\n",
       "dtype: int64"
      ]
     },
     "execution_count": 125,
     "metadata": {},
     "output_type": "execute_result"
    }
   ],
   "source": [
    "dict_prabhas_rank[10:20]"
   ]
  },
  {
   "cell_type": "code",
   "execution_count": 126,
   "id": "4d6a716d",
   "metadata": {},
   "outputs": [
    {
     "data": {
      "text/plain": [
       "3"
      ]
     },
     "execution_count": 126,
     "metadata": {},
     "output_type": "execute_result"
    }
   ],
   "source": [
    "dict_prabhas_rank.iloc[1]#loking up by position"
   ]
  },
  {
   "cell_type": "code",
   "execution_count": 127,
   "id": "5dfa940d",
   "metadata": {},
   "outputs": [
    {
     "data": {
      "text/plain": [
       "[01] Eashwar                                           2002    4\n",
       "[02] Ragavendhra                                       2003    3\n",
       "[03] Varsham\\t                                        2004     5\n",
       "[04] Adivi Ramudu                                      2004    5\n",
       "[05] Chakram                                           2005    4\n",
       "dtype: int64"
      ]
     },
     "execution_count": 127,
     "metadata": {},
     "output_type": "execute_result"
    }
   ],
   "source": [
    "dict_prabhas_rank.iloc[0:5]"
   ]
  },
  {
   "cell_type": "code",
   "execution_count": 128,
   "id": "f60fa264",
   "metadata": {},
   "outputs": [
    {
     "data": {
      "text/plain": [
       "[01] Eashwar                                           2002    4\n",
       "[02] Ragavendhra                                       2003    3\n",
       "[03] Varsham\\t                                        2004     5\n",
       "[04] Adivi Ramudu                                      2004    5\n",
       "[05] Chakram                                           2005    4\n",
       "dtype: int64"
      ]
     },
     "execution_count": 128,
     "metadata": {},
     "output_type": "execute_result"
    }
   ],
   "source": [
    "dict_prabhas_rank[0:5]"
   ]
  },
  {
   "cell_type": "code",
   "execution_count": 130,
   "id": "791d80b6",
   "metadata": {},
   "outputs": [],
   "source": [
    "## VECTORIZING OPERATIONS IN SERIES"
   ]
  },
  {
   "cell_type": "code",
   "execution_count": 135,
   "id": "f4b4561e",
   "metadata": {},
   "outputs": [],
   "source": [
    "first_vector_series = pd.Series([1,2,3,4],index=['a','b','c','d'])\n",
    "second_vector_series = pd.Series([10,20,30,40,],index=['a','b','c','d'])                                 "
   ]
  },
  {
   "cell_type": "code",
   "execution_count": 136,
   "id": "67f1b83d",
   "metadata": {},
   "outputs": [
    {
     "data": {
      "text/plain": [
       "a    11\n",
       "b    22\n",
       "c    33\n",
       "d    44\n",
       "dtype: int64"
      ]
     },
     "execution_count": 136,
     "metadata": {},
     "output_type": "execute_result"
    }
   ],
   "source": [
    "first_vector_series+second_vector_series"
   ]
  },
  {
   "cell_type": "code",
   "execution_count": 138,
   "id": "b1294f24",
   "metadata": {},
   "outputs": [],
   "source": [
    "siva_vector_series = pd.Series([100,200,300,400],index=['bahuballi','yogi','pournmi','adivi ramudu'])"
   ]
  },
  {
   "cell_type": "code",
   "execution_count": 139,
   "id": "2e47c7cf",
   "metadata": {},
   "outputs": [
    {
     "data": {
      "text/plain": [
       "a              NaN\n",
       "adivi ramudu   NaN\n",
       "b              NaN\n",
       "bahuballi      NaN\n",
       "c              NaN\n",
       "d              NaN\n",
       "pournmi        NaN\n",
       "yogi           NaN\n",
       "dtype: float64"
      ]
     },
     "execution_count": 139,
     "metadata": {},
     "output_type": "execute_result"
    }
   ],
   "source": [
    "first_vector_series+siva_vector_series"
   ]
  },
  {
   "cell_type": "code",
   "execution_count": 140,
   "id": "575bef4a",
   "metadata": {},
   "outputs": [],
   "source": [
    "#vectirizing operations i  series"
   ]
  },
  {
   "cell_type": "code",
   "execution_count": 143,
   "id": "18bfb76a",
   "metadata": {},
   "outputs": [],
   "source": [
    "siva_vector_series = pd.Series([10,20,30,40],index=['a','b','c','f'])"
   ]
  },
  {
   "cell_type": "code",
   "execution_count": 144,
   "id": "ea9b83cd",
   "metadata": {},
   "outputs": [
    {
     "data": {
      "text/plain": [
       "a    11.0\n",
       "b    22.0\n",
       "c    33.0\n",
       "d     NaN\n",
       "f     NaN\n",
       "dtype: float64"
      ]
     },
     "execution_count": 144,
     "metadata": {},
     "output_type": "execute_result"
    }
   ],
   "source": [
    "first_vector_series+siva_vector_series"
   ]
  },
  {
   "cell_type": "markdown",
   "id": "07294c61",
   "metadata": {},
   "source": [
    "# "
   ]
  }
 ],
 "metadata": {
  "kernelspec": {
   "display_name": "Python 3 (ipykernel)",
   "language": "python",
   "name": "python3"
  },
  "language_info": {
   "codemirror_mode": {
    "name": "ipython",
    "version": 3
   },
   "file_extension": ".py",
   "mimetype": "text/x-python",
   "name": "python",
   "nbconvert_exporter": "python",
   "pygments_lexer": "ipython3",
   "version": "3.9.12"
  }
 },
 "nbformat": 4,
 "nbformat_minor": 5
}
