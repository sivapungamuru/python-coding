{
 "cells": [
  {
   "cell_type": "code",
   "execution_count": 17,
   "id": "70df3b99",
   "metadata": {},
   "outputs": [
    {
     "name": "stdout",
     "output_type": "stream",
     "text": [
      "        *\n",
      "       ***\n",
      "      *****\n",
      "     *******\n",
      "    *********\n",
      "   ***********\n",
      "  *************\n",
      " ***************\n",
      "*****************\n"
     ]
    }
   ],
   "source": [
    "def pyfunc(r):\n",
    "    for x in range(r):\n",
    "        print(' '*(r-x-1)+'*'*(2*x+1))\n",
    "pyfunc(9)        "
   ]
  },
  {
   "cell_type": "markdown",
   "id": "b5bb2280",
   "metadata": {},
   "source": [
    "##table program"
   ]
  },
  {
   "cell_type": "code",
   "execution_count": 1,
   "id": "d89fa5ee",
   "metadata": {
    "scrolled": true
   },
   "outputs": [
    {
     "name": "stdout",
     "output_type": "stream",
     "text": [
      "helow siva\n",
      "press any number=2\n",
      "                                         2 x 1 = 2\n"
     ]
    },
    {
     "ename": "KeyboardInterrupt",
     "evalue": "Interrupted by user",
     "output_type": "error",
     "traceback": [
      "\u001b[1;31m---------------------------------------------------------------------------\u001b[0m",
      "\u001b[1;31mKeyboardInterrupt\u001b[0m                         Traceback (most recent call last)",
      "Input \u001b[1;32mIn [1]\u001b[0m, in \u001b[0;36m<cell line: 2>\u001b[1;34m()\u001b[0m\n\u001b[0;32m      1\u001b[0m \u001b[38;5;28mprint\u001b[39m(\u001b[38;5;124m\"\u001b[39m\u001b[38;5;124mhelow siva\u001b[39m\u001b[38;5;124m\"\u001b[39m)\n\u001b[0;32m      2\u001b[0m \u001b[38;5;28;01mfor\u001b[39;00m i \u001b[38;5;129;01min\u001b[39;00m \u001b[38;5;28mrange\u001b[39m(\u001b[38;5;241m1\u001b[39m,\u001b[38;5;241m10\u001b[39m):\n\u001b[1;32m----> 3\u001b[0m     n\u001b[38;5;241m=\u001b[39m\u001b[38;5;28mint\u001b[39m(\u001b[38;5;28;43minput\u001b[39;49m\u001b[43m(\u001b[49m\u001b[38;5;124;43m\"\u001b[39;49m\u001b[38;5;124;43mpress any number=\u001b[39;49m\u001b[38;5;124;43m\"\u001b[39;49m\u001b[43m)\u001b[49m)\n\u001b[0;32m      4\u001b[0m     k\u001b[38;5;241m=\u001b[39mi\u001b[38;5;241m*\u001b[39mn\n\u001b[0;32m      5\u001b[0m     \u001b[38;5;28mprint\u001b[39m(\u001b[38;5;241m40\u001b[39m\u001b[38;5;241m*\u001b[39m\u001b[38;5;124m\"\u001b[39m\u001b[38;5;124m \u001b[39m\u001b[38;5;124m\"\u001b[39m,n,\u001b[38;5;124m'\u001b[39m\u001b[38;5;124mx\u001b[39m\u001b[38;5;124m'\u001b[39m,i,\u001b[38;5;124m'\u001b[39m\u001b[38;5;124m=\u001b[39m\u001b[38;5;124m'\u001b[39m,k)\n",
      "File \u001b[1;32m~\\anaconda3\\lib\\site-packages\\ipykernel\\kernelbase.py:1075\u001b[0m, in \u001b[0;36mKernel.raw_input\u001b[1;34m(self, prompt)\u001b[0m\n\u001b[0;32m   1071\u001b[0m \u001b[38;5;28;01mif\u001b[39;00m \u001b[38;5;129;01mnot\u001b[39;00m \u001b[38;5;28mself\u001b[39m\u001b[38;5;241m.\u001b[39m_allow_stdin:\n\u001b[0;32m   1072\u001b[0m     \u001b[38;5;28;01mraise\u001b[39;00m StdinNotImplementedError(\n\u001b[0;32m   1073\u001b[0m         \u001b[38;5;124m\"\u001b[39m\u001b[38;5;124mraw_input was called, but this frontend does not support input requests.\u001b[39m\u001b[38;5;124m\"\u001b[39m\n\u001b[0;32m   1074\u001b[0m     )\n\u001b[1;32m-> 1075\u001b[0m \u001b[38;5;28;01mreturn\u001b[39;00m \u001b[38;5;28;43mself\u001b[39;49m\u001b[38;5;241;43m.\u001b[39;49m\u001b[43m_input_request\u001b[49m\u001b[43m(\u001b[49m\n\u001b[0;32m   1076\u001b[0m \u001b[43m    \u001b[49m\u001b[38;5;28;43mstr\u001b[39;49m\u001b[43m(\u001b[49m\u001b[43mprompt\u001b[49m\u001b[43m)\u001b[49m\u001b[43m,\u001b[49m\n\u001b[0;32m   1077\u001b[0m \u001b[43m    \u001b[49m\u001b[38;5;28;43mself\u001b[39;49m\u001b[38;5;241;43m.\u001b[39;49m\u001b[43m_parent_ident\u001b[49m\u001b[43m[\u001b[49m\u001b[38;5;124;43m\"\u001b[39;49m\u001b[38;5;124;43mshell\u001b[39;49m\u001b[38;5;124;43m\"\u001b[39;49m\u001b[43m]\u001b[49m\u001b[43m,\u001b[49m\n\u001b[0;32m   1078\u001b[0m \u001b[43m    \u001b[49m\u001b[38;5;28;43mself\u001b[39;49m\u001b[38;5;241;43m.\u001b[39;49m\u001b[43mget_parent\u001b[49m\u001b[43m(\u001b[49m\u001b[38;5;124;43m\"\u001b[39;49m\u001b[38;5;124;43mshell\u001b[39;49m\u001b[38;5;124;43m\"\u001b[39;49m\u001b[43m)\u001b[49m\u001b[43m,\u001b[49m\n\u001b[0;32m   1079\u001b[0m \u001b[43m    \u001b[49m\u001b[43mpassword\u001b[49m\u001b[38;5;241;43m=\u001b[39;49m\u001b[38;5;28;43;01mFalse\u001b[39;49;00m\u001b[43m,\u001b[49m\n\u001b[0;32m   1080\u001b[0m \u001b[43m\u001b[49m\u001b[43m)\u001b[49m\n",
      "File \u001b[1;32m~\\anaconda3\\lib\\site-packages\\ipykernel\\kernelbase.py:1120\u001b[0m, in \u001b[0;36mKernel._input_request\u001b[1;34m(self, prompt, ident, parent, password)\u001b[0m\n\u001b[0;32m   1117\u001b[0m             \u001b[38;5;28;01mbreak\u001b[39;00m\n\u001b[0;32m   1118\u001b[0m \u001b[38;5;28;01mexcept\u001b[39;00m \u001b[38;5;167;01mKeyboardInterrupt\u001b[39;00m:\n\u001b[0;32m   1119\u001b[0m     \u001b[38;5;66;03m# re-raise KeyboardInterrupt, to truncate traceback\u001b[39;00m\n\u001b[1;32m-> 1120\u001b[0m     \u001b[38;5;28;01mraise\u001b[39;00m \u001b[38;5;167;01mKeyboardInterrupt\u001b[39;00m(\u001b[38;5;124m\"\u001b[39m\u001b[38;5;124mInterrupted by user\u001b[39m\u001b[38;5;124m\"\u001b[39m) \u001b[38;5;28;01mfrom\u001b[39;00m \u001b[38;5;28mNone\u001b[39m\n\u001b[0;32m   1121\u001b[0m \u001b[38;5;28;01mexcept\u001b[39;00m \u001b[38;5;167;01mException\u001b[39;00m:\n\u001b[0;32m   1122\u001b[0m     \u001b[38;5;28mself\u001b[39m\u001b[38;5;241m.\u001b[39mlog\u001b[38;5;241m.\u001b[39mwarning(\u001b[38;5;124m\"\u001b[39m\u001b[38;5;124mInvalid Message:\u001b[39m\u001b[38;5;124m\"\u001b[39m, exc_info\u001b[38;5;241m=\u001b[39m\u001b[38;5;28;01mTrue\u001b[39;00m)\n",
      "\u001b[1;31mKeyboardInterrupt\u001b[0m: Interrupted by user"
     ]
    }
   ],
   "source": [
    "print(\"helow siva\")\n",
    "for i in range(1,10):\n",
    "    n=int(input(\"press any number=\"))\n",
    "    k=i*n\n",
    "    print(40*\" \",n,'x',i,'=',k)"
   ]
  },
  {
   "cell_type": "code",
   "execution_count": 31,
   "id": "d1857e50",
   "metadata": {},
   "outputs": [
    {
     "name": "stdout",
     "output_type": "stream",
     "text": [
      "         *\n",
      "        ***\n",
      "       *****\n",
      "      *******\n",
      "     *********\n",
      "    ***********\n",
      "   *************\n",
      "  ***************\n",
      " *****************\n",
      "*******************\n"
     ]
    }
   ],
   "source": [
    "def pyfunc(s):\n",
    "    for x in range(s):\n",
    "        print(' '*(s-x-1)+'*'*(2*x+1))\n",
    "pyfunc(10)        "
   ]
  },
  {
   "cell_type": "markdown",
   "id": "4f75de59",
   "metadata": {},
   "source": [
    "# getting started"
   ]
  },
  {
   "cell_type": "code",
   "execution_count": 37,
   "id": "4ba3beb0",
   "metadata": {},
   "outputs": [],
   "source": [
    "import sys"
   ]
  },
  {
   "cell_type": "code",
   "execution_count": 41,
   "id": "4b4fdc6a",
   "metadata": {},
   "outputs": [
    {
     "name": "stdout",
     "output_type": "stream",
     "text": [
      "3.9.12 (main, Apr  4 2022, 05:22:27) [MSC v.1916 64 bit (AMD64)]\n"
     ]
    }
   ],
   "source": [
    "print(sys.version)"
   ]
  },
  {
   "cell_type": "code",
   "execution_count": 43,
   "id": "3fd4f966",
   "metadata": {},
   "outputs": [],
   "source": [
    "import platform"
   ]
  },
  {
   "cell_type": "code",
   "execution_count": 44,
   "id": "daeb553c",
   "metadata": {},
   "outputs": [
    {
     "data": {
      "text/plain": [
       "'3.9.12'"
      ]
     },
     "execution_count": 44,
     "metadata": {},
     "output_type": "execute_result"
    }
   ],
   "source": [
    "platform.python_version()"
   ]
  },
  {
   "cell_type": "code",
   "execution_count": 45,
   "id": "c861a434",
   "metadata": {},
   "outputs": [
    {
     "name": "stdout",
     "output_type": "stream",
     "text": [
      "hello world\n"
     ]
    }
   ],
   "source": [
    "#hello world\n",
    "print('hello world')\n"
   ]
  },
  {
   "cell_type": "code",
   "execution_count": 46,
   "id": "d8d578f9",
   "metadata": {},
   "outputs": [
    {
     "data": {
      "text/plain": [
       "8"
      ]
     },
     "execution_count": 46,
     "metadata": {},
     "output_type": "execute_result"
    }
   ],
   "source": [
    "3+5\n"
   ]
  },
  {
   "cell_type": "code",
   "execution_count": 47,
   "id": "18aecaa2",
   "metadata": {},
   "outputs": [
    {
     "data": {
      "text/plain": [
       "5"
      ]
     },
     "execution_count": 47,
     "metadata": {},
     "output_type": "execute_result"
    }
   ],
   "source": [
    "10-5"
   ]
  },
  {
   "cell_type": "code",
   "execution_count": 49,
   "id": "8c6ce814",
   "metadata": {},
   "outputs": [
    {
     "data": {
      "text/plain": [
       "64"
      ]
     },
     "execution_count": 49,
     "metadata": {},
     "output_type": "execute_result"
    }
   ],
   "source": [
    "8*8\n"
   ]
  },
  {
   "cell_type": "code",
   "execution_count": 51,
   "id": "8c37f36a",
   "metadata": {},
   "outputs": [
    {
     "data": {
      "text/plain": [
       "24"
      ]
     },
     "execution_count": 51,
     "metadata": {},
     "output_type": "execute_result"
    }
   ],
   "source": [
    "8*3"
   ]
  },
  {
   "cell_type": "raw",
   "id": "b403c4a3",
   "metadata": {},
   "source": []
  },
  {
   "cell_type": "markdown",
   "id": "e2679409",
   "metadata": {},
   "source": [
    "# variables and assignment"
   ]
  },
  {
   "cell_type": "code",
   "execution_count": 53,
   "id": "32920df4",
   "metadata": {},
   "outputs": [
    {
     "data": {
      "text/plain": [
       "int"
      ]
     },
     "execution_count": 53,
     "metadata": {},
     "output_type": "execute_result"
    }
   ],
   "source": [
    "x = 3\n",
    "type(x)"
   ]
  },
  {
   "cell_type": "code",
   "execution_count": 55,
   "id": "e3cafbdc",
   "metadata": {},
   "outputs": [
    {
     "data": {
      "text/plain": [
       "float"
      ]
     },
     "execution_count": 55,
     "metadata": {},
     "output_type": "execute_result"
    }
   ],
   "source": [
    "y = 30.45\n",
    "type(y)"
   ]
  },
  {
   "cell_type": "code",
   "execution_count": 56,
   "id": "788d945f",
   "metadata": {},
   "outputs": [
    {
     "data": {
      "text/plain": [
       "str"
      ]
     },
     "execution_count": 56,
     "metadata": {},
     "output_type": "execute_result"
    }
   ],
   "source": [
    "z = 'siva'\n",
    "type(z)"
   ]
  },
  {
   "cell_type": "code",
   "execution_count": 57,
   "id": "db3eda33",
   "metadata": {},
   "outputs": [],
   "source": [
    "siva = 'mohini'\n",
    "ramu = '1234'"
   ]
  },
  {
   "cell_type": "code",
   "execution_count": 58,
   "id": "80c7163f",
   "metadata": {},
   "outputs": [
    {
     "name": "stdout",
     "output_type": "stream",
     "text": [
      "mohini\n",
      "1234\n"
     ]
    }
   ],
   "source": [
    "print(siva)\n",
    "print(ramu)"
   ]
  },
  {
   "cell_type": "markdown",
   "id": "22f8f2b9",
   "metadata": {},
   "source": [
    "# multipul assinments\n",
    "number_example"
   ]
  },
  {
   "cell_type": "code",
   "execution_count": 85,
   "id": "3e965b6d",
   "metadata": {},
   "outputs": [
    {
     "data": {
      "text/plain": [
       "10"
      ]
     },
     "execution_count": 85,
     "metadata": {},
     "output_type": "execute_result"
    }
   ],
   "source": [
    "number_example"
   ]
  },
  {
   "cell_type": "code",
   "execution_count": 84,
   "id": "72a9cf54",
   "metadata": {},
   "outputs": [
    {
     "data": {
      "text/plain": [
       "10"
      ]
     },
     "execution_count": 84,
     "metadata": {},
     "output_type": "execute_result"
    }
   ],
   "source": [
    "number_example = 10\n",
    "number_example "
   ]
  },
  {
   "cell_type": "code",
   "execution_count": 72,
   "id": "ad62f07a",
   "metadata": {},
   "outputs": [],
   "source": [
    "integer_x,float_y = 10,20.10"
   ]
  },
  {
   "cell_type": "code",
   "execution_count": 73,
   "id": "42e28b17",
   "metadata": {},
   "outputs": [
    {
     "data": {
      "text/plain": [
       "10"
      ]
     },
     "execution_count": 73,
     "metadata": {},
     "output_type": "execute_result"
    }
   ],
   "source": [
    "integer_x"
   ]
  },
  {
   "cell_type": "code",
   "execution_count": 74,
   "id": "a21b515b",
   "metadata": {},
   "outputs": [
    {
     "data": {
      "text/plain": [
       "20.1"
      ]
     },
     "execution_count": 74,
     "metadata": {},
     "output_type": "execute_result"
    }
   ],
   "source": [
    "float_y"
   ]
  },
  {
   "cell_type": "markdown",
   "id": "7b7b510c",
   "metadata": {},
   "source": [
    "# assinment and reference"
   ]
  },
  {
   "cell_type": "markdown",
   "id": "cc89f36e",
   "metadata": {},
   "source": [
    "x = 7"
   ]
  },
  {
   "cell_type": "code",
   "execution_count": 87,
   "id": "9f6a6cd2",
   "metadata": {},
   "outputs": [],
   "source": [
    "x = 7\n",
    "x = x+1"
   ]
  },
  {
   "cell_type": "code",
   "execution_count": 88,
   "id": "40581260",
   "metadata": {},
   "outputs": [
    {
     "name": "stdout",
     "output_type": "stream",
     "text": [
      "8\n"
     ]
    }
   ],
   "source": [
    "print(x)"
   ]
  },
  {
   "cell_type": "markdown",
   "id": "e9db88f1",
   "metadata": {},
   "source": [
    "# Basic Data Tyoes and Float"
   ]
  },
  {
   "cell_type": "code",
   "execution_count": 94,
   "id": "3071d39f",
   "metadata": {},
   "outputs": [],
   "source": [
    "int_number  = 7/2"
   ]
  },
  {
   "cell_type": "code",
   "execution_count": 95,
   "id": "21c077dc",
   "metadata": {},
   "outputs": [
    {
     "data": {
      "text/plain": [
       "3.5"
      ]
     },
     "execution_count": 95,
     "metadata": {},
     "output_type": "execute_result"
    }
   ],
   "source": [
    "int_number"
   ]
  },
  {
   "cell_type": "code",
   "execution_count": 96,
   "id": "ee92938c",
   "metadata": {},
   "outputs": [],
   "source": [
    "float_number = 9.10/5"
   ]
  },
  {
   "cell_type": "code",
   "execution_count": 97,
   "id": "a69923f5",
   "metadata": {},
   "outputs": [
    {
     "data": {
      "text/plain": [
       "1.8199999999999998"
      ]
     },
     "execution_count": 97,
     "metadata": {},
     "output_type": "execute_result"
    }
   ],
   "source": [
    "float_number"
   ]
  },
  {
   "cell_type": "code",
   "execution_count": 98,
   "id": "1bf34755",
   "metadata": {},
   "outputs": [],
   "source": [
    "siva_ramu = 10"
   ]
  },
  {
   "cell_type": "code",
   "execution_count": 104,
   "id": "4e3ffae3",
   "metadata": {},
   "outputs": [
    {
     "data": {
      "text/plain": [
       "10"
      ]
     },
     "execution_count": 104,
     "metadata": {},
     "output_type": "execute_result"
    }
   ],
   "source": [
    "siva_ramu"
   ]
  },
  {
   "cell_type": "markdown",
   "id": "609c8608",
   "metadata": {},
   "source": [
    "# basic data types strimg"
   ]
  },
  {
   "cell_type": "code",
   "execution_count": 105,
   "id": "a566792b",
   "metadata": {},
   "outputs": [],
   "source": [
    "string_one = 'first string'\n",
    "string_two = \"second string\"\n",
    "string_three = \"\"\"third strig\"\"\""
   ]
  },
  {
   "cell_type": "code",
   "execution_count": 106,
   "id": "542b4ad8",
   "metadata": {},
   "outputs": [
    {
     "name": "stdout",
     "output_type": "stream",
     "text": [
      "first string\n",
      "second string\n",
      "third strig\n"
     ]
    }
   ],
   "source": [
    "print (string_one)\n",
    "print (string_two)\n",
    "print (string_three)"
   ]
  },
  {
   "cell_type": "code",
   "execution_count": 107,
   "id": "5367300b",
   "metadata": {},
   "outputs": [],
   "source": [
    "a = 'siva'\n",
    "b = \"ram\"\n",
    "c = \"\"\"seetha\"\"\""
   ]
  },
  {
   "cell_type": "code",
   "execution_count": 108,
   "id": "eca37b12",
   "metadata": {},
   "outputs": [
    {
     "name": "stdout",
     "output_type": "stream",
     "text": [
      "siva ram seetha\n"
     ]
    }
   ],
   "source": [
    "print(a,b,c)"
   ]
  },
  {
   "cell_type": "code",
   "execution_count": 112,
   "id": "bdd660bc",
   "metadata": {},
   "outputs": [
    {
     "name": "stdout",
     "output_type": "stream",
     "text": [
      "siva\n",
      "ram\n",
      "seetha\n"
     ]
    }
   ],
   "source": [
    "print(a)\n",
    "print(b)\n",
    "print(c)"
   ]
  },
  {
   "cell_type": "markdown",
   "id": "33f70c01",
   "metadata": {},
   "source": [
    "# Basic Data Types None and Boolean"
   ]
  },
  {
   "cell_type": "code",
   "execution_count": 119,
   "id": "c2ae1641",
   "metadata": {},
   "outputs": [
    {
     "data": {
      "text/plain": [
       "True"
      ]
     },
     "execution_count": 119,
     "metadata": {},
     "output_type": "execute_result"
    }
   ],
   "source": [
    "num_x = None\n",
    "num_x is None"
   ]
  },
  {
   "cell_type": "code",
   "execution_count": 1,
   "id": "ff04afd5",
   "metadata": {},
   "outputs": [
    {
     "data": {
      "text/plain": [
       "True"
      ]
     },
     "execution_count": 1,
     "metadata": {},
     "output_type": "execute_result"
    }
   ],
   "source": [
    "siva_s = None\n",
    "siva_s is None"
   ]
  },
  {
   "cell_type": "code",
   "execution_count": 3,
   "id": "e54fa48d",
   "metadata": {},
   "outputs": [
    {
     "data": {
      "text/plain": [
       "True"
      ]
     },
     "execution_count": 3,
     "metadata": {},
     "output_type": "execute_result"
    }
   ],
   "source": [
    "num_x = None\n",
    "num_x is  None"
   ]
  },
  {
   "cell_type": "code",
   "execution_count": 8,
   "id": "d9ba7c6e",
   "metadata": {},
   "outputs": [
    {
     "data": {
      "text/plain": [
       "False"
      ]
     },
     "execution_count": 8,
     "metadata": {},
     "output_type": "execute_result"
    }
   ],
   "source": [
    "num_y = 20\n",
    "num_y is None"
   ]
  },
  {
   "cell_type": "markdown",
   "id": "90f5517e",
   "metadata": {},
   "source": [
    "# type casting"
   ]
  },
  {
   "cell_type": "code",
   "execution_count": 3,
   "id": "0743a3b1",
   "metadata": {},
   "outputs": [],
   "source": [
    "float_number = 3.6467"
   ]
  },
  {
   "cell_type": "code",
   "execution_count": 4,
   "id": "4f87b14e",
   "metadata": {},
   "outputs": [
    {
     "data": {
      "text/plain": [
       "3.6467"
      ]
     },
     "execution_count": 4,
     "metadata": {},
     "output_type": "execute_result"
    }
   ],
   "source": [
    "float_number "
   ]
  },
  {
   "cell_type": "code",
   "execution_count": 6,
   "id": "792117f9",
   "metadata": {},
   "outputs": [
    {
     "data": {
      "text/plain": [
       "3"
      ]
     },
     "execution_count": 6,
     "metadata": {},
     "output_type": "execute_result"
    }
   ],
   "source": [
    "int(float_number)"
   ]
  },
  {
   "cell_type": "code",
   "execution_count": 7,
   "id": "c936d78a",
   "metadata": {},
   "outputs": [
    {
     "data": {
      "text/plain": [
       "'3.6467'"
      ]
     },
     "execution_count": 7,
     "metadata": {},
     "output_type": "execute_result"
    }
   ],
   "source": [
    "str(float_number)"
   ]
  },
  {
   "cell_type": "code",
   "execution_count": 8,
   "id": "d751e087",
   "metadata": {},
   "outputs": [],
   "source": [
    "siva_pungamuru = 9502771969"
   ]
  },
  {
   "cell_type": "code",
   "execution_count": 9,
   "id": "b0af3877",
   "metadata": {},
   "outputs": [
    {
     "data": {
      "text/plain": [
       "9502771969"
      ]
     },
     "execution_count": 9,
     "metadata": {},
     "output_type": "execute_result"
    }
   ],
   "source": [
    "siva_pungamuru"
   ]
  },
  {
   "cell_type": "code",
   "execution_count": 10,
   "id": "f69ec9f7",
   "metadata": {},
   "outputs": [
    {
     "data": {
      "text/plain": [
       "9502771969"
      ]
     },
     "execution_count": 10,
     "metadata": {},
     "output_type": "execute_result"
    }
   ],
   "source": [
    "int(siva_pungamuru)"
   ]
  },
  {
   "cell_type": "code",
   "execution_count": 11,
   "id": "ccc40346",
   "metadata": {},
   "outputs": [
    {
     "data": {
      "text/plain": [
       "'9502771969'"
      ]
     },
     "execution_count": 11,
     "metadata": {},
     "output_type": "execute_result"
    }
   ],
   "source": [
    "str(siva_pungamuru)"
   ]
  },
  {
   "cell_type": "markdown",
   "id": "1f2e1505",
   "metadata": {},
   "source": [
    "# Data structure: Tuple"
   ]
  },
  {
   "cell_type": "code",
   "execution_count": 12,
   "id": "9c6f5d98",
   "metadata": {},
   "outputs": [],
   "source": [
    "first_tuple = (12,'jack',45.6,'new',(3,2),'test')"
   ]
  },
  {
   "cell_type": "code",
   "execution_count": 13,
   "id": "691ecd40",
   "metadata": {},
   "outputs": [
    {
     "data": {
      "text/plain": [
       "(12, 'jack', 45.6, 'new', (3, 2), 'test')"
      ]
     },
     "execution_count": 13,
     "metadata": {},
     "output_type": "execute_result"
    }
   ],
   "source": [
    "first_tuple"
   ]
  },
  {
   "cell_type": "code",
   "execution_count": 14,
   "id": "ddc25be6",
   "metadata": {},
   "outputs": [
    {
     "data": {
      "text/plain": [
       "12"
      ]
     },
     "execution_count": 14,
     "metadata": {},
     "output_type": "execute_result"
    }
   ],
   "source": [
    "first_tuple[0]"
   ]
  },
  {
   "cell_type": "code",
   "execution_count": 16,
   "id": "e50059b8",
   "metadata": {},
   "outputs": [
    {
     "data": {
      "text/plain": [
       "'new'"
      ]
     },
     "execution_count": 16,
     "metadata": {},
     "output_type": "execute_result"
    }
   ],
   "source": [
    "first_tuple[3]"
   ]
  },
  {
   "cell_type": "code",
   "execution_count": 17,
   "id": "95571e98",
   "metadata": {},
   "outputs": [
    {
     "ename": "TypeError",
     "evalue": "'tuple' object does not support item assignment",
     "output_type": "error",
     "traceback": [
      "\u001b[1;31m---------------------------------------------------------------------------\u001b[0m",
      "\u001b[1;31mTypeError\u001b[0m                                 Traceback (most recent call last)",
      "Input \u001b[1;32mIn [17]\u001b[0m, in \u001b[0;36m<cell line: 1>\u001b[1;34m()\u001b[0m\n\u001b[1;32m----> 1\u001b[0m first_tuple[\u001b[38;5;241m3\u001b[39m] \u001b[38;5;241m=\u001b[39m \u001b[38;5;124m'\u001b[39m\u001b[38;5;124msiva\u001b[39m\u001b[38;5;124m'\u001b[39m\n",
      "\u001b[1;31mTypeError\u001b[0m: 'tuple' object does not support item assignment"
     ]
    }
   ],
   "source": [
    "first_tuple[3] = 'siva'"
   ]
  },
  {
   "cell_type": "markdown",
   "id": "cb3e8eca",
   "metadata": {},
   "source": [
    "# DATA Structure : Accessing Tuples"
   ]
  },
  {
   "cell_type": "code",
   "execution_count": 18,
   "id": "9ef77ee4",
   "metadata": {},
   "outputs": [],
   "source": [
    "first_tuple = (12,'jack',45.6,'new',(3,2),'test')"
   ]
  },
  {
   "cell_type": "code",
   "execution_count": 20,
   "id": "038b00a5",
   "metadata": {},
   "outputs": [
    {
     "data": {
      "text/plain": [
       "45.6"
      ]
     },
     "execution_count": 20,
     "metadata": {},
     "output_type": "execute_result"
    }
   ],
   "source": [
    "#Accessing elements using a positive index\n",
    "#The index count strts from the list ,with the first index being -0\n",
    "first_tuple[2]"
   ]
  },
  {
   "cell_type": "code",
   "execution_count": 21,
   "id": "58ea08cd",
   "metadata": {},
   "outputs": [
    {
     "data": {
      "text/plain": [
       "'new'"
      ]
     },
     "execution_count": 21,
     "metadata": {},
     "output_type": "execute_result"
    }
   ],
   "source": [
    "#Accessing elements using a negative index\n",
    "# the index count starts from the right,with the first index being -1\n",
    "first_tuple[-3]"
   ]
  },
  {
   "cell_type": "markdown",
   "id": "cdf6f006",
   "metadata": {},
   "source": [
    "# DATA Structure : Slicing Tuple"
   ]
  },
  {
   "cell_type": "code",
   "execution_count": 22,
   "id": "b83a4d45",
   "metadata": {},
   "outputs": [],
   "source": [
    "first_tuple = (12,'jack',45.6,'new',(3,2),'test')"
   ]
  },
  {
   "cell_type": "code",
   "execution_count": 23,
   "id": "04858b84",
   "metadata": {},
   "outputs": [
    {
     "data": {
      "text/plain": [
       "('jack', 45.6, 'new')"
      ]
     },
     "execution_count": 23,
     "metadata": {},
     "output_type": "execute_result"
    }
   ],
   "source": [
    "#Creating a subset/slic of the tuole\n",
    "#Specify thr indices of the elements, separated by a colon\n",
    "#The first index is inclusive; the second index is exclusive\n",
    "first_tuple[1:4]"
   ]
  },
  {
   "cell_type": "code",
   "execution_count": 24,
   "id": "e04d50d7",
   "metadata": {},
   "outputs": [
    {
     "data": {
      "text/plain": [
       "('jack', 45.6, 'new', (3, 2))"
      ]
     },
     "execution_count": 24,
     "metadata": {},
     "output_type": "execute_result"
    }
   ],
   "source": [
    "#you can use nagative indices as well to slice a tuple \n",
    "#count from the right ,starting from -1,to specify the correct index\n",
    "first_tuple[1:-1]"
   ]
  },
  {
   "cell_type": "code",
   "execution_count": 25,
   "id": "983016cb",
   "metadata": {},
   "outputs": [
    {
     "data": {
      "text/plain": [
       "(12, 'jack', 45.6, 'new')"
      ]
     },
     "execution_count": 25,
     "metadata": {},
     "output_type": "execute_result"
    }
   ],
   "source": [
    "first_tuple[0:-2]"
   ]
  },
  {
   "cell_type": "code",
   "execution_count": 26,
   "id": "7fef5a9a",
   "metadata": {},
   "outputs": [
    {
     "data": {
      "text/plain": [
       "(12, 'jack', 45.6, 'new', (3, 2), 'test')"
      ]
     },
     "execution_count": 26,
     "metadata": {},
     "output_type": "execute_result"
    }
   ],
   "source": [
    "first_tuple[0:6]"
   ]
  },
  {
   "cell_type": "code",
   "execution_count": 27,
   "id": "8c44570c",
   "metadata": {},
   "outputs": [
    {
     "data": {
      "text/plain": [
       "(12,)"
      ]
     },
     "execution_count": 27,
     "metadata": {},
     "output_type": "execute_result"
    }
   ],
   "source": [
    "first_tuple[0:-5]"
   ]
  },
  {
   "cell_type": "markdown",
   "id": "a716590b",
   "metadata": {},
   "source": [
    "# Data structure :LIST"
   ]
  },
  {
   "cell_type": "markdown",
   "id": "64065454",
   "metadata": {},
   "source": [
    "# A list is one dimensional,mutable ordered sequence of items which can be mixed data types. "
   ]
  },
  {
   "cell_type": "code",
   "execution_count": 57,
   "id": "7d4bded6",
   "metadata": {},
   "outputs": [
    {
     "data": {
      "text/plain": [
       "['mark', 101, 23.6, 'test', None, 11]"
      ]
     },
     "execution_count": 57,
     "metadata": {},
     "output_type": "execute_result"
    }
   ],
   "source": [
    "first_list = ['mark',101,23.6,'test',None,11]                       #create list     and view list\n",
    "first_list"
   ]
  },
  {
   "cell_type": "code",
   "execution_count": 58,
   "id": "ae153307",
   "metadata": {},
   "outputs": [
    {
     "data": {
      "text/plain": [
       "['mark', 101, 23.6, 'test', None, 11, 'jack']"
      ]
     },
     "execution_count": 58,
     "metadata": {},
     "output_type": "execute_result"
    }
   ],
   "source": [
    "first_list.append('jack')                                       #modify a list :add new items\n",
    "first_list"
   ]
  },
  {
   "cell_type": "code",
   "execution_count": 59,
   "id": "876f4551",
   "metadata": {},
   "outputs": [
    {
     "data": {
      "text/plain": [
       "['mark', 101, 23.6, 'test', None, 11]"
      ]
     },
     "execution_count": 59,
     "metadata": {},
     "output_type": "execute_result"
    }
   ],
   "source": [
    "first_list.remove('jack')                                          #modify a list : remove items\n",
    "first_list"
   ]
  },
  {
   "cell_type": "code",
   "execution_count": 60,
   "id": "04ee6f0a",
   "metadata": {},
   "outputs": [
    {
     "data": {
      "text/plain": [
       "23.6"
      ]
     },
     "execution_count": 60,
     "metadata": {},
     "output_type": "execute_result"
    }
   ],
   "source": [
    "first_list.pop(2)                                                   #access and remove list data using element indices"
   ]
  },
  {
   "cell_type": "code",
   "execution_count": 63,
   "id": "e54dcd16",
   "metadata": {},
   "outputs": [
    {
     "data": {
      "text/plain": [
       "['mark', 101, 'test', None, 11]"
      ]
     },
     "execution_count": 63,
     "metadata": {},
     "output_type": "execute_result"
    }
   ],
   "source": [
    "first_list"
   ]
  },
  {
   "cell_type": "code",
   "execution_count": 64,
   "id": "f8745cbb",
   "metadata": {},
   "outputs": [
    {
     "data": {
      "text/plain": [
       "'test'"
      ]
     },
     "execution_count": 64,
     "metadata": {},
     "output_type": "execute_result"
    }
   ],
   "source": [
    "first_list[2]"
   ]
  },
  {
   "cell_type": "code",
   "execution_count": 65,
   "id": "fcea8db8",
   "metadata": {},
   "outputs": [
    {
     "data": {
      "text/plain": [
       "['mark', 'Smith', 101, 'test', None, 11]"
      ]
     },
     "execution_count": 65,
     "metadata": {},
     "output_type": "execute_result"
    }
   ],
   "source": [
    "first_list.insert(1,'Smith')                                         #Modify a list : Insert a new item at a certain index\n",
    "first_list"
   ]
  },
  {
   "cell_type": "markdown",
   "id": "b4b5788a",
   "metadata": {},
   "source": [
    "# DATA STRUCTURE : Accessing Lists\n",
    "just like tuples , you can access elements in a list through indices\n"
   ]
  },
  {
   "cell_type": "code",
   "execution_count": 68,
   "id": "b1836d7f",
   "metadata": {},
   "outputs": [
    {
     "data": {
      "text/plain": [
       "['mark', 'Smith', 101, 'test', None, 11]"
      ]
     },
     "execution_count": 68,
     "metadata": {},
     "output_type": "execute_result"
    }
   ],
   "source": [
    "first_list                                                     #New modidied list"
   ]
  },
  {
   "cell_type": "code",
   "execution_count": 69,
   "id": "6a47ba02",
   "metadata": {},
   "outputs": [
    {
     "data": {
      "text/plain": [
       "101"
      ]
     },
     "execution_count": 69,
     "metadata": {},
     "output_type": "execute_result"
    }
   ],
   "source": [
    "#Accessing elements using a positive index\n",
    "#the index count starts from the right ,with the first index being 0\n",
    "first_list[2]                                                           #Access with positive index"
   ]
  },
  {
   "cell_type": "code",
   "execution_count": 73,
   "id": "1108243d",
   "metadata": {},
   "outputs": [
    {
     "data": {
      "text/plain": [
       "'test'"
      ]
     },
     "execution_count": 73,
     "metadata": {},
     "output_type": "execute_result"
    }
   ],
   "source": [
    "#Accessing elements using a nagative index\n",
    "#the index count starts from the right , with the first index beaing -1\n",
    "first_list[-3]                                                          #Access with negative index"
   ]
  },
  {
   "cell_type": "markdown",
   "id": "f3abd675",
   "metadata": {},
   "source": [
    "# DATA structure : slicing lists\n",
    "similar to tuples ,you can also lista through indices"
   ]
  },
  {
   "cell_type": "code",
   "execution_count": 74,
   "id": "dfc89851",
   "metadata": {},
   "outputs": [
    {
     "data": {
      "text/plain": [
       "['mark', 'Smith', 101, 'test', None, 11]"
      ]
     },
     "execution_count": 74,
     "metadata": {},
     "output_type": "execute_result"
    }
   ],
   "source": [
    "first_list                                                             #new modified list"
   ]
  },
  {
   "cell_type": "code",
   "execution_count": 75,
   "id": "4fece153",
   "metadata": {},
   "outputs": [
    {
     "data": {
      "text/plain": [
       "['Smith', 101, 'test']"
      ]
     },
     "execution_count": 75,
     "metadata": {},
     "output_type": "execute_result"
    }
   ],
   "source": [
    "#Crating a subset/ slice of the tuple\n",
    "#Spceify the indices of the elements ,saparated by a colon\n",
    "#the first index is inclusive ;the second index is exclusive\n",
    "first_list[1:4]                             #Count starts with thw first index, but stops before the second index"
   ]
  },
  {
   "cell_type": "code",
   "execution_count": 76,
   "id": "37b69553",
   "metadata": {},
   "outputs": [
    {
     "data": {
      "text/plain": [
       "['mark', 'Smith', 101, 'test', None, 11]"
      ]
     },
     "execution_count": 76,
     "metadata": {},
     "output_type": "execute_result"
    }
   ],
   "source": [
    "first_list"
   ]
  },
  {
   "cell_type": "code",
   "execution_count": 77,
   "id": "6b905ceb",
   "metadata": {},
   "outputs": [
    {
     "data": {
      "text/plain": [
       "['test', None, 11]"
      ]
     },
     "execution_count": 77,
     "metadata": {},
     "output_type": "execute_result"
    }
   ],
   "source": [
    "first_list[3:6]"
   ]
  },
  {
   "cell_type": "code",
   "execution_count": 79,
   "id": "b5312875",
   "metadata": {},
   "outputs": [
    {
     "data": {
      "text/plain": [
       "['Smith', 101, 'test', None]"
      ]
     },
     "execution_count": 79,
     "metadata": {},
     "output_type": "execute_result"
    }
   ],
   "source": [
    "#you can use negative induces as well to slice a tuple \n",
    "#Count from the right,starting form -1, to specify the corrct index\n",
    "first_list[1:-1]                                       #Even for negative indices .the count stops befour the second index"
   ]
  },
  {
   "cell_type": "markdown",
   "id": "c557dbdf",
   "metadata": {},
   "source": [
    "# revers string"
   ]
  },
  {
   "cell_type": "code",
   "execution_count": 5,
   "id": "383d66d9",
   "metadata": {},
   "outputs": [
    {
     "name": "stdout",
     "output_type": "stream",
     "text": [
      "yob doog si avis\n"
     ]
    }
   ],
   "source": [
    "a =\"siva is good boy\"[::-1]\n",
    "print(a)"
   ]
  },
  {
   "cell_type": "code",
   "execution_count": 6,
   "id": "e8a9e6c6",
   "metadata": {},
   "outputs": [],
   "source": [
    "#creating a function "
   ]
  },
  {
   "cell_type": "code",
   "execution_count": 8,
   "id": "c451ceba",
   "metadata": {},
   "outputs": [
    {
     "name": "stdout",
     "output_type": "stream",
     "text": [
      "SDROWKCAB EKIL SKOOL TXET SIHT WOH REDNOW I\n"
     ]
    }
   ],
   "source": [
    "def my_function(x):\n",
    "    return x[::-1]\n",
    "\n",
    "mytxt = my_function(\"I WONDER HOW THIS TEXT LOOKS LIKE BACKWORDS\")\n",
    "print(mytxt)"
   ]
  },
  {
   "cell_type": "code",
   "execution_count": 16,
   "id": "b503362d",
   "metadata": {},
   "outputs": [
    {
     "name": "stdout",
     "output_type": "stream",
     "text": [
      "yob doog si inan\n",
      "987654321\n"
     ]
    }
   ],
   "source": [
    "def my_function(y):\n",
    "    return y[::-1]\n",
    "siva = my_function(\"nani is good boy\")\n",
    "print(siva)\n",
    "sno = my_function(\"123456789\")\n",
    "print(sno)"
   ]
  },
  {
   "cell_type": "code",
   "execution_count": 17,
   "id": "e324f659",
   "metadata": {},
   "outputs": [
    {
     "name": "stdout",
     "output_type": "stream",
     "text": [
      "siva is good boy\n"
     ]
    }
   ],
   "source": [
    "a = \"siva is good boy\"[::+1]\n",
    "print(a)"
   ]
  },
  {
   "cell_type": "code",
   "execution_count": 20,
   "id": "2bc4f8d6",
   "metadata": {},
   "outputs": [
    {
     "name": "stdout",
     "output_type": "stream",
     "text": [
      "yob dog si avis\n"
     ]
    }
   ],
   "source": [
    "b = \"siva is god boy\"[::-1]\n",
    "print(bwr"
   ]
  },
  {
   "cell_type": "code",
   "execution_count": 24,
   "id": "84e605a2",
   "metadata": {},
   "outputs": [
    {
     "name": "stdout",
     "output_type": "stream",
     "text": [
      "siva is god boy\n"
     ]
    }
   ],
   "source": [
    "c = \"siva is god boy\"[::+1]\n",
    "print(c)"
   ]
  },
  {
   "cell_type": "code",
   "execution_count": null,
   "id": "478b90e3",
   "metadata": {},
   "outputs": [],
   "source": []
  }
 ],
 "metadata": {
  "kernelspec": {
   "display_name": "Python 3 (ipykernel)",
   "language": "python",
   "name": "python3"
  },
  "language_info": {
   "codemirror_mode": {
    "name": "ipython",
    "version": 3
   },
   "file_extension": ".py",
   "mimetype": "text/x-python",
   "name": "python",
   "nbconvert_exporter": "python",
   "pygments_lexer": "ipython3",
   "version": "3.9.12"
  }
 },
 "nbformat": 4,
 "nbformat_minor": 5
}
